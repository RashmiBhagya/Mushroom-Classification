{
 "cells": [
  {
   "cell_type": "code",
   "execution_count": 1,
   "metadata": {
    "_cell_guid": "b1076dfc-b9ad-4769-8c92-a6c4dae69d19",
    "_uuid": "8f2839f25d086af736a60e9eeb907d3b93b6e0e5",
    "execution": {
     "iopub.execute_input": "2024-04-08T11:15:59.483116Z",
     "iopub.status.busy": "2024-04-08T11:15:59.482281Z",
     "iopub.status.idle": "2024-04-08T11:15:59.529738Z",
     "shell.execute_reply": "2024-04-08T11:15:59.528716Z",
     "shell.execute_reply.started": "2024-04-08T11:15:59.483001Z"
    }
   },
   "outputs": [],
   "source": [
    "\n",
    "import numpy as np # linear algebra\n",
    "import pandas as pd # data processing, CSV file I/O (e.g. pd.read_csv)\n",
    "\n",
    "import os\n",
    "for dirname, _, filenames in os.walk('/kaggle/input'):\n",
    "    for filename in filenames:\n",
    "        print(os.path.join(dirname, filename))\n"
   ]
  },
  {
   "cell_type": "markdown",
   "metadata": {},
   "source": [
    "# Importing Libraries"
   ]
  },
  {
   "cell_type": "code",
   "execution_count": 2,
   "metadata": {
    "execution": {
     "iopub.execute_input": "2024-04-08T11:15:59.531974Z",
     "iopub.status.busy": "2024-04-08T11:15:59.531601Z",
     "iopub.status.idle": "2024-04-08T11:16:01.666702Z",
     "shell.execute_reply": "2024-04-08T11:16:01.665645Z",
     "shell.execute_reply.started": "2024-04-08T11:15:59.531939Z"
    }
   },
   "outputs": [],
   "source": [
    "from sklearn.preprocessing import LabelEncoder\n",
    "import seaborn as sns\n",
    "import matplotlib.pyplot as plt\n",
    "from sklearn.model_selection import train_test_split\n",
    "from sklearn.ensemble import RandomForestClassifier\n",
    "from sklearn.tree import DecisionTreeClassifier\n",
    "from sklearn.linear_model import LogisticRegression\n",
    "from sklearn.metrics import r2_score, accuracy_score, mean_absolute_error, mean_squared_error, roc_curve, auc, confusion_matrix, classification_report"
   ]
  },
  {
   "cell_type": "markdown",
   "metadata": {},
   "source": [
    "# Loading Dataset"
   ]
  },
  {
   "cell_type": "code",
   "execution_count": 3,
   "metadata": {
    "execution": {
     "iopub.execute_input": "2024-04-08T11:16:01.668781Z",
     "iopub.status.busy": "2024-04-08T11:16:01.668345Z",
     "iopub.status.idle": "2024-04-08T11:16:02.823211Z",
     "shell.execute_reply": "2024-04-08T11:16:02.821929Z",
     "shell.execute_reply.started": "2024-04-08T11:16:01.668718Z"
    }
   },
   "outputs": [
    {
     "name": "stderr",
     "output_type": "stream",
     "text": [
      "ls: cannot access '../input/mushroom-classification/mushrooms.csv': No such file or directory\n"
     ]
    }
   ],
   "source": [
    "!ls ../input/mushroom-classification/mushrooms.csv"
   ]
  },
  {
   "cell_type": "markdown",
   "metadata": {},
   "source": [
    "# Data Preprocessing"
   ]
  },
  {
   "cell_type": "code",
   "execution_count": 4,
   "metadata": {
    "execution": {
     "iopub.execute_input": "2024-04-08T11:16:02.826756Z",
     "iopub.status.busy": "2024-04-08T11:16:02.826233Z",
     "iopub.status.idle": "2024-04-08T11:16:02.945115Z",
     "shell.execute_reply": "2024-04-08T11:16:02.944180Z",
     "shell.execute_reply.started": "2024-04-08T11:16:02.826702Z"
    }
   },
   "outputs": [
    {
     "ename": "FileNotFoundError",
     "evalue": "[Errno 2] No such file or directory: '../input/mushroom-classification/mushrooms.csv'",
     "output_type": "error",
     "traceback": [
      "\u001b[1;31m---------------------------------------------------------------------------\u001b[0m",
      "\u001b[1;31mFileNotFoundError\u001b[0m                         Traceback (most recent call last)",
      "Cell \u001b[1;32mIn[4], line 1\u001b[0m\n\u001b[1;32m----> 1\u001b[0m data \u001b[38;5;241m=\u001b[39m pd\u001b[38;5;241m.\u001b[39mread_csv(\u001b[38;5;124m\"\u001b[39m\u001b[38;5;124m../input/mushroom-classification/mushrooms.csv\u001b[39m\u001b[38;5;124m\"\u001b[39m)\n\u001b[0;32m      2\u001b[0m data\n",
      "File \u001b[1;32m~\\anaconda3\\Lib\\site-packages\\pandas\\util\\_decorators.py:211\u001b[0m, in \u001b[0;36mdeprecate_kwarg.<locals>._deprecate_kwarg.<locals>.wrapper\u001b[1;34m(*args, **kwargs)\u001b[0m\n\u001b[0;32m    209\u001b[0m     \u001b[38;5;28;01melse\u001b[39;00m:\n\u001b[0;32m    210\u001b[0m         kwargs[new_arg_name] \u001b[38;5;241m=\u001b[39m new_arg_value\n\u001b[1;32m--> 211\u001b[0m \u001b[38;5;28;01mreturn\u001b[39;00m func(\u001b[38;5;241m*\u001b[39margs, \u001b[38;5;241m*\u001b[39m\u001b[38;5;241m*\u001b[39mkwargs)\n",
      "File \u001b[1;32m~\\anaconda3\\Lib\\site-packages\\pandas\\util\\_decorators.py:331\u001b[0m, in \u001b[0;36mdeprecate_nonkeyword_arguments.<locals>.decorate.<locals>.wrapper\u001b[1;34m(*args, **kwargs)\u001b[0m\n\u001b[0;32m    325\u001b[0m \u001b[38;5;28;01mif\u001b[39;00m \u001b[38;5;28mlen\u001b[39m(args) \u001b[38;5;241m>\u001b[39m num_allow_args:\n\u001b[0;32m    326\u001b[0m     warnings\u001b[38;5;241m.\u001b[39mwarn(\n\u001b[0;32m    327\u001b[0m         msg\u001b[38;5;241m.\u001b[39mformat(arguments\u001b[38;5;241m=\u001b[39m_format_argument_list(allow_args)),\n\u001b[0;32m    328\u001b[0m         \u001b[38;5;167;01mFutureWarning\u001b[39;00m,\n\u001b[0;32m    329\u001b[0m         stacklevel\u001b[38;5;241m=\u001b[39mfind_stack_level(),\n\u001b[0;32m    330\u001b[0m     )\n\u001b[1;32m--> 331\u001b[0m \u001b[38;5;28;01mreturn\u001b[39;00m func(\u001b[38;5;241m*\u001b[39margs, \u001b[38;5;241m*\u001b[39m\u001b[38;5;241m*\u001b[39mkwargs)\n",
      "File \u001b[1;32m~\\anaconda3\\Lib\\site-packages\\pandas\\io\\parsers\\readers.py:950\u001b[0m, in \u001b[0;36mread_csv\u001b[1;34m(filepath_or_buffer, sep, delimiter, header, names, index_col, usecols, squeeze, prefix, mangle_dupe_cols, dtype, engine, converters, true_values, false_values, skipinitialspace, skiprows, skipfooter, nrows, na_values, keep_default_na, na_filter, verbose, skip_blank_lines, parse_dates, infer_datetime_format, keep_date_col, date_parser, dayfirst, cache_dates, iterator, chunksize, compression, thousands, decimal, lineterminator, quotechar, quoting, doublequote, escapechar, comment, encoding, encoding_errors, dialect, error_bad_lines, warn_bad_lines, on_bad_lines, delim_whitespace, low_memory, memory_map, float_precision, storage_options)\u001b[0m\n\u001b[0;32m    935\u001b[0m kwds_defaults \u001b[38;5;241m=\u001b[39m _refine_defaults_read(\n\u001b[0;32m    936\u001b[0m     dialect,\n\u001b[0;32m    937\u001b[0m     delimiter,\n\u001b[1;32m   (...)\u001b[0m\n\u001b[0;32m    946\u001b[0m     defaults\u001b[38;5;241m=\u001b[39m{\u001b[38;5;124m\"\u001b[39m\u001b[38;5;124mdelimiter\u001b[39m\u001b[38;5;124m\"\u001b[39m: \u001b[38;5;124m\"\u001b[39m\u001b[38;5;124m,\u001b[39m\u001b[38;5;124m\"\u001b[39m},\n\u001b[0;32m    947\u001b[0m )\n\u001b[0;32m    948\u001b[0m kwds\u001b[38;5;241m.\u001b[39mupdate(kwds_defaults)\n\u001b[1;32m--> 950\u001b[0m \u001b[38;5;28;01mreturn\u001b[39;00m _read(filepath_or_buffer, kwds)\n",
      "File \u001b[1;32m~\\anaconda3\\Lib\\site-packages\\pandas\\io\\parsers\\readers.py:605\u001b[0m, in \u001b[0;36m_read\u001b[1;34m(filepath_or_buffer, kwds)\u001b[0m\n\u001b[0;32m    602\u001b[0m _validate_names(kwds\u001b[38;5;241m.\u001b[39mget(\u001b[38;5;124m\"\u001b[39m\u001b[38;5;124mnames\u001b[39m\u001b[38;5;124m\"\u001b[39m, \u001b[38;5;28;01mNone\u001b[39;00m))\n\u001b[0;32m    604\u001b[0m \u001b[38;5;66;03m# Create the parser.\u001b[39;00m\n\u001b[1;32m--> 605\u001b[0m parser \u001b[38;5;241m=\u001b[39m TextFileReader(filepath_or_buffer, \u001b[38;5;241m*\u001b[39m\u001b[38;5;241m*\u001b[39mkwds)\n\u001b[0;32m    607\u001b[0m \u001b[38;5;28;01mif\u001b[39;00m chunksize \u001b[38;5;129;01mor\u001b[39;00m iterator:\n\u001b[0;32m    608\u001b[0m     \u001b[38;5;28;01mreturn\u001b[39;00m parser\n",
      "File \u001b[1;32m~\\anaconda3\\Lib\\site-packages\\pandas\\io\\parsers\\readers.py:1442\u001b[0m, in \u001b[0;36mTextFileReader.__init__\u001b[1;34m(self, f, engine, **kwds)\u001b[0m\n\u001b[0;32m   1439\u001b[0m     \u001b[38;5;28mself\u001b[39m\u001b[38;5;241m.\u001b[39moptions[\u001b[38;5;124m\"\u001b[39m\u001b[38;5;124mhas_index_names\u001b[39m\u001b[38;5;124m\"\u001b[39m] \u001b[38;5;241m=\u001b[39m kwds[\u001b[38;5;124m\"\u001b[39m\u001b[38;5;124mhas_index_names\u001b[39m\u001b[38;5;124m\"\u001b[39m]\n\u001b[0;32m   1441\u001b[0m \u001b[38;5;28mself\u001b[39m\u001b[38;5;241m.\u001b[39mhandles: IOHandles \u001b[38;5;241m|\u001b[39m \u001b[38;5;28;01mNone\u001b[39;00m \u001b[38;5;241m=\u001b[39m \u001b[38;5;28;01mNone\u001b[39;00m\n\u001b[1;32m-> 1442\u001b[0m \u001b[38;5;28mself\u001b[39m\u001b[38;5;241m.\u001b[39m_engine \u001b[38;5;241m=\u001b[39m \u001b[38;5;28mself\u001b[39m\u001b[38;5;241m.\u001b[39m_make_engine(f, \u001b[38;5;28mself\u001b[39m\u001b[38;5;241m.\u001b[39mengine)\n",
      "File \u001b[1;32m~\\anaconda3\\Lib\\site-packages\\pandas\\io\\parsers\\readers.py:1735\u001b[0m, in \u001b[0;36mTextFileReader._make_engine\u001b[1;34m(self, f, engine)\u001b[0m\n\u001b[0;32m   1733\u001b[0m     \u001b[38;5;28;01mif\u001b[39;00m \u001b[38;5;124m\"\u001b[39m\u001b[38;5;124mb\u001b[39m\u001b[38;5;124m\"\u001b[39m \u001b[38;5;129;01mnot\u001b[39;00m \u001b[38;5;129;01min\u001b[39;00m mode:\n\u001b[0;32m   1734\u001b[0m         mode \u001b[38;5;241m+\u001b[39m\u001b[38;5;241m=\u001b[39m \u001b[38;5;124m\"\u001b[39m\u001b[38;5;124mb\u001b[39m\u001b[38;5;124m\"\u001b[39m\n\u001b[1;32m-> 1735\u001b[0m \u001b[38;5;28mself\u001b[39m\u001b[38;5;241m.\u001b[39mhandles \u001b[38;5;241m=\u001b[39m get_handle(\n\u001b[0;32m   1736\u001b[0m     f,\n\u001b[0;32m   1737\u001b[0m     mode,\n\u001b[0;32m   1738\u001b[0m     encoding\u001b[38;5;241m=\u001b[39m\u001b[38;5;28mself\u001b[39m\u001b[38;5;241m.\u001b[39moptions\u001b[38;5;241m.\u001b[39mget(\u001b[38;5;124m\"\u001b[39m\u001b[38;5;124mencoding\u001b[39m\u001b[38;5;124m\"\u001b[39m, \u001b[38;5;28;01mNone\u001b[39;00m),\n\u001b[0;32m   1739\u001b[0m     compression\u001b[38;5;241m=\u001b[39m\u001b[38;5;28mself\u001b[39m\u001b[38;5;241m.\u001b[39moptions\u001b[38;5;241m.\u001b[39mget(\u001b[38;5;124m\"\u001b[39m\u001b[38;5;124mcompression\u001b[39m\u001b[38;5;124m\"\u001b[39m, \u001b[38;5;28;01mNone\u001b[39;00m),\n\u001b[0;32m   1740\u001b[0m     memory_map\u001b[38;5;241m=\u001b[39m\u001b[38;5;28mself\u001b[39m\u001b[38;5;241m.\u001b[39moptions\u001b[38;5;241m.\u001b[39mget(\u001b[38;5;124m\"\u001b[39m\u001b[38;5;124mmemory_map\u001b[39m\u001b[38;5;124m\"\u001b[39m, \u001b[38;5;28;01mFalse\u001b[39;00m),\n\u001b[0;32m   1741\u001b[0m     is_text\u001b[38;5;241m=\u001b[39mis_text,\n\u001b[0;32m   1742\u001b[0m     errors\u001b[38;5;241m=\u001b[39m\u001b[38;5;28mself\u001b[39m\u001b[38;5;241m.\u001b[39moptions\u001b[38;5;241m.\u001b[39mget(\u001b[38;5;124m\"\u001b[39m\u001b[38;5;124mencoding_errors\u001b[39m\u001b[38;5;124m\"\u001b[39m, \u001b[38;5;124m\"\u001b[39m\u001b[38;5;124mstrict\u001b[39m\u001b[38;5;124m\"\u001b[39m),\n\u001b[0;32m   1743\u001b[0m     storage_options\u001b[38;5;241m=\u001b[39m\u001b[38;5;28mself\u001b[39m\u001b[38;5;241m.\u001b[39moptions\u001b[38;5;241m.\u001b[39mget(\u001b[38;5;124m\"\u001b[39m\u001b[38;5;124mstorage_options\u001b[39m\u001b[38;5;124m\"\u001b[39m, \u001b[38;5;28;01mNone\u001b[39;00m),\n\u001b[0;32m   1744\u001b[0m )\n\u001b[0;32m   1745\u001b[0m \u001b[38;5;28;01massert\u001b[39;00m \u001b[38;5;28mself\u001b[39m\u001b[38;5;241m.\u001b[39mhandles \u001b[38;5;129;01mis\u001b[39;00m \u001b[38;5;129;01mnot\u001b[39;00m \u001b[38;5;28;01mNone\u001b[39;00m\n\u001b[0;32m   1746\u001b[0m f \u001b[38;5;241m=\u001b[39m \u001b[38;5;28mself\u001b[39m\u001b[38;5;241m.\u001b[39mhandles\u001b[38;5;241m.\u001b[39mhandle\n",
      "File \u001b[1;32m~\\anaconda3\\Lib\\site-packages\\pandas\\io\\common.py:856\u001b[0m, in \u001b[0;36mget_handle\u001b[1;34m(path_or_buf, mode, encoding, compression, memory_map, is_text, errors, storage_options)\u001b[0m\n\u001b[0;32m    851\u001b[0m \u001b[38;5;28;01melif\u001b[39;00m \u001b[38;5;28misinstance\u001b[39m(handle, \u001b[38;5;28mstr\u001b[39m):\n\u001b[0;32m    852\u001b[0m     \u001b[38;5;66;03m# Check whether the filename is to be opened in binary mode.\u001b[39;00m\n\u001b[0;32m    853\u001b[0m     \u001b[38;5;66;03m# Binary mode does not support 'encoding' and 'newline'.\u001b[39;00m\n\u001b[0;32m    854\u001b[0m     \u001b[38;5;28;01mif\u001b[39;00m ioargs\u001b[38;5;241m.\u001b[39mencoding \u001b[38;5;129;01mand\u001b[39;00m \u001b[38;5;124m\"\u001b[39m\u001b[38;5;124mb\u001b[39m\u001b[38;5;124m\"\u001b[39m \u001b[38;5;129;01mnot\u001b[39;00m \u001b[38;5;129;01min\u001b[39;00m ioargs\u001b[38;5;241m.\u001b[39mmode:\n\u001b[0;32m    855\u001b[0m         \u001b[38;5;66;03m# Encoding\u001b[39;00m\n\u001b[1;32m--> 856\u001b[0m         handle \u001b[38;5;241m=\u001b[39m \u001b[38;5;28mopen\u001b[39m(\n\u001b[0;32m    857\u001b[0m             handle,\n\u001b[0;32m    858\u001b[0m             ioargs\u001b[38;5;241m.\u001b[39mmode,\n\u001b[0;32m    859\u001b[0m             encoding\u001b[38;5;241m=\u001b[39mioargs\u001b[38;5;241m.\u001b[39mencoding,\n\u001b[0;32m    860\u001b[0m             errors\u001b[38;5;241m=\u001b[39merrors,\n\u001b[0;32m    861\u001b[0m             newline\u001b[38;5;241m=\u001b[39m\u001b[38;5;124m\"\u001b[39m\u001b[38;5;124m\"\u001b[39m,\n\u001b[0;32m    862\u001b[0m         )\n\u001b[0;32m    863\u001b[0m     \u001b[38;5;28;01melse\u001b[39;00m:\n\u001b[0;32m    864\u001b[0m         \u001b[38;5;66;03m# Binary mode\u001b[39;00m\n\u001b[0;32m    865\u001b[0m         handle \u001b[38;5;241m=\u001b[39m \u001b[38;5;28mopen\u001b[39m(handle, ioargs\u001b[38;5;241m.\u001b[39mmode)\n",
      "\u001b[1;31mFileNotFoundError\u001b[0m: [Errno 2] No such file or directory: '../input/mushroom-classification/mushrooms.csv'"
     ]
    }
   ],
   "source": [
    "data = pd.read_csv(\"../input/mushroom-classification/mushrooms.csv\")\n",
    "data"
   ]
  },
  {
   "cell_type": "code",
   "execution_count": null,
   "metadata": {
    "execution": {
     "iopub.execute_input": "2024-04-08T11:16:02.949209Z",
     "iopub.status.busy": "2024-04-08T11:16:02.948134Z",
     "iopub.status.idle": "2024-04-08T11:16:02.958960Z",
     "shell.execute_reply": "2024-04-08T11:16:02.957508Z",
     "shell.execute_reply.started": "2024-04-08T11:16:02.949151Z"
    }
   },
   "outputs": [],
   "source": [
    "data.columns"
   ]
  },
  {
   "cell_type": "code",
   "execution_count": null,
   "metadata": {
    "execution": {
     "iopub.execute_input": "2024-04-08T11:16:02.960940Z",
     "iopub.status.busy": "2024-04-08T11:16:02.960653Z",
     "iopub.status.idle": "2024-04-08T11:16:03.027540Z",
     "shell.execute_reply": "2024-04-08T11:16:03.025747Z",
     "shell.execute_reply.started": "2024-04-08T11:16:02.960898Z"
    }
   },
   "outputs": [],
   "source": [
    "data.info()"
   ]
  },
  {
   "cell_type": "code",
   "execution_count": null,
   "metadata": {
    "execution": {
     "iopub.execute_input": "2024-04-08T11:16:03.029449Z",
     "iopub.status.busy": "2024-04-08T11:16:03.029089Z",
     "iopub.status.idle": "2024-04-08T11:16:03.165545Z",
     "shell.execute_reply": "2024-04-08T11:16:03.164117Z",
     "shell.execute_reply.started": "2024-04-08T11:16:03.029398Z"
    }
   },
   "outputs": [],
   "source": [
    "data.describe()"
   ]
  },
  {
   "cell_type": "code",
   "execution_count": null,
   "metadata": {
    "execution": {
     "iopub.execute_input": "2024-04-08T11:16:03.167990Z",
     "iopub.status.busy": "2024-04-08T11:16:03.167612Z",
     "iopub.status.idle": "2024-04-08T11:16:03.177970Z",
     "shell.execute_reply": "2024-04-08T11:16:03.176534Z",
     "shell.execute_reply.started": "2024-04-08T11:16:03.167943Z"
    }
   },
   "outputs": [],
   "source": [
    "data.shape"
   ]
  },
  {
   "cell_type": "code",
   "execution_count": null,
   "metadata": {
    "execution": {
     "iopub.execute_input": "2024-04-08T11:16:03.181037Z",
     "iopub.status.busy": "2024-04-08T11:16:03.180402Z",
     "iopub.status.idle": "2024-04-08T11:16:03.224287Z",
     "shell.execute_reply": "2024-04-08T11:16:03.222326Z",
     "shell.execute_reply.started": "2024-04-08T11:16:03.180980Z"
    }
   },
   "outputs": [],
   "source": [
    "data.isnull().sum()"
   ]
  },
  {
   "cell_type": "markdown",
   "metadata": {},
   "source": [
    "Converting string to integer"
   ]
  },
  {
   "cell_type": "code",
   "execution_count": null,
   "metadata": {
    "execution": {
     "iopub.execute_input": "2024-04-08T11:16:03.226834Z",
     "iopub.status.busy": "2024-04-08T11:16:03.226059Z",
     "iopub.status.idle": "2024-04-08T11:16:03.337546Z",
     "shell.execute_reply": "2024-04-08T11:16:03.336333Z",
     "shell.execute_reply.started": "2024-04-08T11:16:03.226627Z"
    }
   },
   "outputs": [],
   "source": [
    "la = LabelEncoder()\n",
    "for i in data.columns:\n",
    "    data[i] = la.fit_transform(data[i])"
   ]
  },
  {
   "cell_type": "markdown",
   "metadata": {},
   "source": [
    "Checking for class imbalancing"
   ]
  },
  {
   "cell_type": "code",
   "execution_count": null,
   "metadata": {
    "execution": {
     "iopub.execute_input": "2024-04-08T11:16:03.339950Z",
     "iopub.status.busy": "2024-04-08T11:16:03.339357Z",
     "iopub.status.idle": "2024-04-08T11:16:03.349474Z",
     "shell.execute_reply": "2024-04-08T11:16:03.348322Z",
     "shell.execute_reply.started": "2024-04-08T11:16:03.339897Z"
    }
   },
   "outputs": [],
   "source": [
    "data['class'].value_counts()"
   ]
  },
  {
   "cell_type": "code",
   "execution_count": null,
   "metadata": {
    "execution": {
     "iopub.execute_input": "2024-04-08T11:16:03.351908Z",
     "iopub.status.busy": "2024-04-08T11:16:03.351524Z",
     "iopub.status.idle": "2024-04-08T11:16:03.392290Z",
     "shell.execute_reply": "2024-04-08T11:16:03.391143Z",
     "shell.execute_reply.started": "2024-04-08T11:16:03.351869Z"
    }
   },
   "outputs": [],
   "source": [
    "cor = data.corr()\n",
    "rela = cor['class'].sort_values(ascending = False)\n",
    "rela"
   ]
  },
  {
   "cell_type": "code",
   "execution_count": null,
   "metadata": {
    "execution": {
     "iopub.execute_input": "2024-04-08T11:16:03.394794Z",
     "iopub.status.busy": "2024-04-08T11:16:03.394486Z",
     "iopub.status.idle": "2024-04-08T11:16:07.198301Z",
     "shell.execute_reply": "2024-04-08T11:16:07.197205Z",
     "shell.execute_reply.started": "2024-04-08T11:16:03.394759Z"
    }
   },
   "outputs": [],
   "source": [
    "plt.subplots(figsize=(12, 12))\n",
    "sns.heatmap(cor, annot = True)"
   ]
  },
  {
   "cell_type": "code",
   "execution_count": null,
   "metadata": {
    "execution": {
     "iopub.execute_input": "2024-04-08T11:16:07.203702Z",
     "iopub.status.busy": "2024-04-08T11:16:07.202520Z",
     "iopub.status.idle": "2024-04-08T11:16:07.212598Z",
     "shell.execute_reply": "2024-04-08T11:16:07.211647Z",
     "shell.execute_reply.started": "2024-04-08T11:16:07.203653Z"
    }
   },
   "outputs": [],
   "source": [
    "data['veil-type']"
   ]
  },
  {
   "cell_type": "code",
   "execution_count": null,
   "metadata": {
    "execution": {
     "iopub.execute_input": "2024-04-08T11:16:07.214176Z",
     "iopub.status.busy": "2024-04-08T11:16:07.213873Z",
     "iopub.status.idle": "2024-04-08T11:16:07.233784Z",
     "shell.execute_reply": "2024-04-08T11:16:07.232573Z",
     "shell.execute_reply.started": "2024-04-08T11:16:07.214140Z"
    }
   },
   "outputs": [],
   "source": [
    "data.drop('veil-type', inplace = True, axis=1)"
   ]
  },
  {
   "cell_type": "markdown",
   "metadata": {},
   "source": [
    "# Designing Model"
   ]
  },
  {
   "cell_type": "code",
   "execution_count": null,
   "metadata": {
    "execution": {
     "iopub.execute_input": "2024-04-08T11:16:07.236619Z",
     "iopub.status.busy": "2024-04-08T11:16:07.236256Z",
     "iopub.status.idle": "2024-04-08T11:16:07.254753Z",
     "shell.execute_reply": "2024-04-08T11:16:07.253469Z",
     "shell.execute_reply.started": "2024-04-08T11:16:07.236584Z"
    }
   },
   "outputs": [],
   "source": [
    "x= []\n",
    "for i in range(len(rela)):\n",
    "    if rela[i]>0:\n",
    "        x.append(rela.index[i])\n",
    "x"
   ]
  },
  {
   "cell_type": "code",
   "execution_count": null,
   "metadata": {
    "execution": {
     "iopub.execute_input": "2024-04-08T11:16:07.257401Z",
     "iopub.status.busy": "2024-04-08T11:16:07.256933Z",
     "iopub.status.idle": "2024-04-08T11:16:07.305654Z",
     "shell.execute_reply": "2024-04-08T11:16:07.304243Z",
     "shell.execute_reply.started": "2024-04-08T11:16:07.257339Z"
    }
   },
   "outputs": [],
   "source": [
    "x = data[x]\n",
    "x.drop('class', inplace = True, axis = 1)\n",
    "x"
   ]
  },
  {
   "cell_type": "code",
   "execution_count": null,
   "metadata": {
    "execution": {
     "iopub.execute_input": "2024-04-08T11:16:07.308476Z",
     "iopub.status.busy": "2024-04-08T11:16:07.308080Z",
     "iopub.status.idle": "2024-04-08T11:16:07.319769Z",
     "shell.execute_reply": "2024-04-08T11:16:07.318520Z",
     "shell.execute_reply.started": "2024-04-08T11:16:07.308429Z"
    }
   },
   "outputs": [],
   "source": [
    "y = data['class']\n",
    "y"
   ]
  },
  {
   "cell_type": "code",
   "execution_count": null,
   "metadata": {
    "execution": {
     "iopub.execute_input": "2024-04-08T11:16:07.322042Z",
     "iopub.status.busy": "2024-04-08T11:16:07.321344Z",
     "iopub.status.idle": "2024-04-08T11:16:07.338297Z",
     "shell.execute_reply": "2024-04-08T11:16:07.336755Z",
     "shell.execute_reply.started": "2024-04-08T11:16:07.321971Z"
    }
   },
   "outputs": [],
   "source": [
    "xtrain, xtest, ytrain, ytest = train_test_split(x, y, test_size = 0.25, random_state=42)"
   ]
  },
  {
   "cell_type": "code",
   "execution_count": null,
   "metadata": {
    "execution": {
     "iopub.execute_input": "2024-04-08T11:16:07.341690Z",
     "iopub.status.busy": "2024-04-08T11:16:07.340957Z",
     "iopub.status.idle": "2024-04-08T11:16:07.355660Z",
     "shell.execute_reply": "2024-04-08T11:16:07.353964Z",
     "shell.execute_reply.started": "2024-04-08T11:16:07.341342Z"
    }
   },
   "outputs": [],
   "source": [
    "results = pd.DataFrame()\n",
    "Name = []\n",
    "Accuracy = []"
   ]
  },
  {
   "cell_type": "markdown",
   "metadata": {},
   "source": [
    "# Applying RandomForest"
   ]
  },
  {
   "cell_type": "code",
   "execution_count": null,
   "metadata": {
    "execution": {
     "iopub.execute_input": "2024-04-08T11:16:07.358405Z",
     "iopub.status.busy": "2024-04-08T11:16:07.357673Z",
     "iopub.status.idle": "2024-04-08T11:16:07.426073Z",
     "shell.execute_reply": "2024-04-08T11:16:07.424485Z",
     "shell.execute_reply.started": "2024-04-08T11:16:07.358268Z"
    }
   },
   "outputs": [],
   "source": [
    "cla = RandomForestClassifier(n_estimators = 10, random_state = 42)\n",
    "cla.fit(xtrain, ytrain)"
   ]
  },
  {
   "cell_type": "markdown",
   "metadata": {},
   "source": [
    "Making predictions on testing data"
   ]
  },
  {
   "cell_type": "code",
   "execution_count": null,
   "metadata": {
    "execution": {
     "iopub.execute_input": "2024-04-08T11:16:07.428130Z",
     "iopub.status.busy": "2024-04-08T11:16:07.427489Z",
     "iopub.status.idle": "2024-04-08T11:16:07.441843Z",
     "shell.execute_reply": "2024-04-08T11:16:07.440578Z",
     "shell.execute_reply.started": "2024-04-08T11:16:07.428082Z"
    }
   },
   "outputs": [],
   "source": [
    "predicted = cla.predict(xtest)\n",
    "predicted"
   ]
  },
  {
   "cell_type": "markdown",
   "metadata": {},
   "source": [
    "Calculating Accuracy"
   ]
  },
  {
   "cell_type": "code",
   "execution_count": null,
   "metadata": {
    "execution": {
     "iopub.execute_input": "2024-04-08T11:16:07.444059Z",
     "iopub.status.busy": "2024-04-08T11:16:07.443752Z",
     "iopub.status.idle": "2024-04-08T11:16:07.458110Z",
     "shell.execute_reply": "2024-04-08T11:16:07.456886Z",
     "shell.execute_reply.started": "2024-04-08T11:16:07.444026Z"
    }
   },
   "outputs": [],
   "source": [
    "print(\"Accuracy score usign Random Forrest is: {}%\".format(accuracy_score(ytest, predicted)*100))"
   ]
  },
  {
   "cell_type": "code",
   "execution_count": null,
   "metadata": {
    "execution": {
     "iopub.execute_input": "2024-04-08T11:16:07.459799Z",
     "iopub.status.busy": "2024-04-08T11:16:07.459484Z",
     "iopub.status.idle": "2024-04-08T11:16:07.475900Z",
     "shell.execute_reply": "2024-04-08T11:16:07.474133Z",
     "shell.execute_reply.started": "2024-04-08T11:16:07.459757Z"
    }
   },
   "outputs": [],
   "source": [
    "Name.append('RandomForrest()')\n",
    "Accuracy.append(accuracy_score(ytest, predicted)*100)"
   ]
  },
  {
   "cell_type": "code",
   "execution_count": null,
   "metadata": {
    "execution": {
     "iopub.execute_input": "2024-04-08T11:16:07.478767Z",
     "iopub.status.busy": "2024-04-08T11:16:07.477764Z",
     "iopub.status.idle": "2024-04-08T11:16:07.734638Z",
     "shell.execute_reply": "2024-04-08T11:16:07.733585Z",
     "shell.execute_reply.started": "2024-04-08T11:16:07.478722Z"
    }
   },
   "outputs": [],
   "source": [
    "fpr, tpr, threshold= roc_curve(ytest, predicted, pos_label=1)\n",
    "plt.plot(fpr, tpr)\n",
    "plt.xlabel(\"False Positive Rate\")\n",
    "plt.ylabel(\"True Positive Rate\")\n",
    "plt.title(\"ROC curve\")\n",
    "plt.show()\n",
    "print(\"AUC value is {} \".format(auc(fpr, tpr)))"
   ]
  },
  {
   "cell_type": "code",
   "execution_count": null,
   "metadata": {
    "execution": {
     "iopub.execute_input": "2024-04-08T11:16:07.736870Z",
     "iopub.status.busy": "2024-04-08T11:16:07.736485Z",
     "iopub.status.idle": "2024-04-08T11:16:08.039472Z",
     "shell.execute_reply": "2024-04-08T11:16:08.037708Z",
     "shell.execute_reply.started": "2024-04-08T11:16:07.736824Z"
    }
   },
   "outputs": [],
   "source": [
    "confu = confusion_matrix(ytest, predicted, labels = [0,1])\n",
    "sns.heatmap(confu, annot=True)"
   ]
  },
  {
   "cell_type": "code",
   "execution_count": null,
   "metadata": {
    "execution": {
     "iopub.execute_input": "2024-04-08T11:16:08.042955Z",
     "iopub.status.busy": "2024-04-08T11:16:08.042141Z",
     "iopub.status.idle": "2024-04-08T11:16:08.063216Z",
     "shell.execute_reply": "2024-04-08T11:16:08.061382Z",
     "shell.execute_reply.started": "2024-04-08T11:16:08.042900Z"
    }
   },
   "outputs": [],
   "source": [
    "print(\"Classification Report for our model is \")\n",
    "print(classification_report(ytest, predicted))"
   ]
  },
  {
   "cell_type": "markdown",
   "metadata": {},
   "source": [
    "# Applying Decision Tree"
   ]
  },
  {
   "cell_type": "code",
   "execution_count": null,
   "metadata": {
    "execution": {
     "iopub.execute_input": "2024-04-08T11:16:08.065769Z",
     "iopub.status.busy": "2024-04-08T11:16:08.065390Z",
     "iopub.status.idle": "2024-04-08T11:16:08.084888Z",
     "shell.execute_reply": "2024-04-08T11:16:08.083594Z",
     "shell.execute_reply.started": "2024-04-08T11:16:08.065730Z"
    }
   },
   "outputs": [],
   "source": [
    "dst = DecisionTreeClassifier()\n",
    "dst.fit(xtrain, ytrain)"
   ]
  },
  {
   "cell_type": "code",
   "execution_count": null,
   "metadata": {
    "execution": {
     "iopub.execute_input": "2024-04-08T11:16:08.086931Z",
     "iopub.status.busy": "2024-04-08T11:16:08.086213Z",
     "iopub.status.idle": "2024-04-08T11:16:08.097918Z",
     "shell.execute_reply": "2024-04-08T11:16:08.096627Z",
     "shell.execute_reply.started": "2024-04-08T11:16:08.086888Z"
    }
   },
   "outputs": [],
   "source": [
    "predicted = dst.predict(xtest)\n",
    "predicted"
   ]
  },
  {
   "cell_type": "code",
   "execution_count": null,
   "metadata": {
    "execution": {
     "iopub.execute_input": "2024-04-08T11:16:08.101813Z",
     "iopub.status.busy": "2024-04-08T11:16:08.101479Z",
     "iopub.status.idle": "2024-04-08T11:16:08.112333Z",
     "shell.execute_reply": "2024-04-08T11:16:08.111600Z",
     "shell.execute_reply.started": "2024-04-08T11:16:08.101778Z"
    }
   },
   "outputs": [],
   "source": [
    "print(\"Accuracy score using Decision Tree is: {}%\".format(accuracy_score(ytest, predicted)))"
   ]
  },
  {
   "cell_type": "code",
   "execution_count": null,
   "metadata": {
    "execution": {
     "iopub.execute_input": "2024-04-08T11:16:08.115397Z",
     "iopub.status.busy": "2024-04-08T11:16:08.115034Z",
     "iopub.status.idle": "2024-04-08T11:16:08.134429Z",
     "shell.execute_reply": "2024-04-08T11:16:08.132734Z",
     "shell.execute_reply.started": "2024-04-08T11:16:08.115357Z"
    }
   },
   "outputs": [],
   "source": [
    "Name.append(dst)\n",
    "Accuracy.append(accuracy_score(ytest, predicted)*100)"
   ]
  },
  {
   "cell_type": "code",
   "execution_count": null,
   "metadata": {
    "execution": {
     "iopub.execute_input": "2024-04-08T11:16:08.136951Z",
     "iopub.status.busy": "2024-04-08T11:16:08.136612Z",
     "iopub.status.idle": "2024-04-08T11:16:08.325088Z",
     "shell.execute_reply": "2024-04-08T11:16:08.323896Z",
     "shell.execute_reply.started": "2024-04-08T11:16:08.136915Z"
    }
   },
   "outputs": [],
   "source": [
    "fpr, tpr, threshold= roc_curve(ytest, predicted, pos_label=1)\n",
    "plt.plot(fpr, tpr)\n",
    "plt.xlabel(\"False Positive Rate\")\n",
    "plt.ylabel(\"True Positive Rate\")\n",
    "plt.title(\"ROC curve\")\n",
    "plt.show()\n",
    "print(\"AUC value is {} \".format(auc(fpr, tpr)))"
   ]
  },
  {
   "cell_type": "code",
   "execution_count": null,
   "metadata": {
    "execution": {
     "iopub.execute_input": "2024-04-08T11:16:08.328216Z",
     "iopub.status.busy": "2024-04-08T11:16:08.327752Z",
     "iopub.status.idle": "2024-04-08T11:16:08.606226Z",
     "shell.execute_reply": "2024-04-08T11:16:08.605020Z",
     "shell.execute_reply.started": "2024-04-08T11:16:08.328165Z"
    }
   },
   "outputs": [],
   "source": [
    "confu = confusion_matrix(ytest, predicted, labels = [0,1])\n",
    "sns.heatmap(confu, annot=True)"
   ]
  },
  {
   "cell_type": "code",
   "execution_count": null,
   "metadata": {
    "execution": {
     "iopub.execute_input": "2024-04-08T11:16:08.609531Z",
     "iopub.status.busy": "2024-04-08T11:16:08.608445Z",
     "iopub.status.idle": "2024-04-08T11:16:08.627613Z",
     "shell.execute_reply": "2024-04-08T11:16:08.625778Z",
     "shell.execute_reply.started": "2024-04-08T11:16:08.609435Z"
    }
   },
   "outputs": [],
   "source": [
    "print(\"Classification Report for our model is \")\n",
    "print(classification_report(ytest, predicted))"
   ]
  },
  {
   "cell_type": "markdown",
   "metadata": {},
   "source": [
    "# Applying Logistic Regression"
   ]
  },
  {
   "cell_type": "code",
   "execution_count": null,
   "metadata": {
    "execution": {
     "iopub.execute_input": "2024-04-08T11:16:08.629568Z",
     "iopub.status.busy": "2024-04-08T11:16:08.629263Z",
     "iopub.status.idle": "2024-04-08T11:16:08.732324Z",
     "shell.execute_reply": "2024-04-08T11:16:08.731057Z",
     "shell.execute_reply.started": "2024-04-08T11:16:08.629496Z"
    }
   },
   "outputs": [],
   "source": [
    "lr = LogisticRegression()\n",
    "lr.fit(xtrain, ytrain)"
   ]
  },
  {
   "cell_type": "code",
   "execution_count": null,
   "metadata": {
    "execution": {
     "iopub.execute_input": "2024-04-08T11:16:08.735380Z",
     "iopub.status.busy": "2024-04-08T11:16:08.734700Z",
     "iopub.status.idle": "2024-04-08T11:16:08.755411Z",
     "shell.execute_reply": "2024-04-08T11:16:08.754006Z",
     "shell.execute_reply.started": "2024-04-08T11:16:08.735315Z"
    }
   },
   "outputs": [],
   "source": [
    "predicted = lr.predict(xtest)\n",
    "predicted"
   ]
  },
  {
   "cell_type": "code",
   "execution_count": null,
   "metadata": {
    "execution": {
     "iopub.execute_input": "2024-04-08T11:16:08.759401Z",
     "iopub.status.busy": "2024-04-08T11:16:08.758492Z",
     "iopub.status.idle": "2024-04-08T11:16:08.770948Z",
     "shell.execute_reply": "2024-04-08T11:16:08.769323Z",
     "shell.execute_reply.started": "2024-04-08T11:16:08.759335Z"
    }
   },
   "outputs": [],
   "source": [
    "print(\"Accuracy score using Logistic Regression is: {}%\".format(accuracy_score(ytest, predicted)*100))"
   ]
  },
  {
   "cell_type": "code",
   "execution_count": null,
   "metadata": {
    "execution": {
     "iopub.execute_input": "2024-04-08T11:16:08.775431Z",
     "iopub.status.busy": "2024-04-08T11:16:08.774081Z",
     "iopub.status.idle": "2024-04-08T11:16:08.787955Z",
     "shell.execute_reply": "2024-04-08T11:16:08.786593Z",
     "shell.execute_reply.started": "2024-04-08T11:16:08.775359Z"
    }
   },
   "outputs": [],
   "source": [
    "Name.append(lr)\n",
    "Accuracy.append(accuracy_score(ytest, predicted)*100)"
   ]
  },
  {
   "cell_type": "code",
   "execution_count": null,
   "metadata": {
    "execution": {
     "iopub.execute_input": "2024-04-08T11:16:08.799362Z",
     "iopub.status.busy": "2024-04-08T11:16:08.791122Z",
     "iopub.status.idle": "2024-04-08T11:16:09.078202Z",
     "shell.execute_reply": "2024-04-08T11:16:09.077048Z",
     "shell.execute_reply.started": "2024-04-08T11:16:08.799267Z"
    }
   },
   "outputs": [],
   "source": [
    "fpr, tpr, threshold= roc_curve(ytest, predicted, pos_label=1)\n",
    "plt.plot(fpr, tpr)\n",
    "plt.xlabel(\"False Positive Rate\")\n",
    "plt.ylabel(\"True Positive Rate\")\n",
    "plt.title(\"ROC curve\")\n",
    "plt.show()\n",
    "print(\"AUC value is {} \".format(auc(fpr, tpr)))"
   ]
  },
  {
   "cell_type": "code",
   "execution_count": null,
   "metadata": {
    "execution": {
     "iopub.execute_input": "2024-04-08T11:16:09.079904Z",
     "iopub.status.busy": "2024-04-08T11:16:09.079623Z",
     "iopub.status.idle": "2024-04-08T11:16:09.384686Z",
     "shell.execute_reply": "2024-04-08T11:16:09.382621Z",
     "shell.execute_reply.started": "2024-04-08T11:16:09.079869Z"
    }
   },
   "outputs": [],
   "source": [
    "confu = confusion_matrix(ytest, predicted, labels = [0,1])\n",
    "sns.heatmap(confu, annot=True)"
   ]
  },
  {
   "cell_type": "code",
   "execution_count": null,
   "metadata": {
    "execution": {
     "iopub.execute_input": "2024-04-08T11:16:09.392631Z",
     "iopub.status.busy": "2024-04-08T11:16:09.392287Z",
     "iopub.status.idle": "2024-04-08T11:16:09.409800Z",
     "shell.execute_reply": "2024-04-08T11:16:09.408606Z",
     "shell.execute_reply.started": "2024-04-08T11:16:09.392595Z"
    }
   },
   "outputs": [],
   "source": [
    "print(\"Classification Report for our model is \")\n",
    "print(classification_report(ytest, predicted))"
   ]
  },
  {
   "cell_type": "markdown",
   "metadata": {},
   "source": [
    "# Final results are:"
   ]
  },
  {
   "cell_type": "code",
   "execution_count": null,
   "metadata": {
    "execution": {
     "iopub.execute_input": "2024-04-08T11:16:09.411388Z",
     "iopub.status.busy": "2024-04-08T11:16:09.411123Z",
     "iopub.status.idle": "2024-04-08T11:16:09.429530Z",
     "shell.execute_reply": "2024-04-08T11:16:09.428151Z",
     "shell.execute_reply.started": "2024-04-08T11:16:09.411356Z"
    }
   },
   "outputs": [],
   "source": [
    "results['Name'] = Name\n",
    "results['Accuracy'] = Accuracy\n",
    "results"
   ]
  },
  {
   "cell_type": "code",
   "execution_count": null,
   "metadata": {},
   "outputs": [],
   "source": []
  }
 ],
 "metadata": {
  "kaggle": {
   "accelerator": "none",
   "dataSources": [
    {
     "datasetId": 478,
     "sourceId": 974,
     "sourceType": "datasetVersion"
    }
   ],
   "dockerImageVersionId": 30154,
   "isGpuEnabled": false,
   "isInternetEnabled": true,
   "language": "python",
   "sourceType": "notebook"
  },
  "kernelspec": {
   "display_name": "Python 3 (ipykernel)",
   "language": "python",
   "name": "python3"
  },
  "language_info": {
   "codemirror_mode": {
    "name": "ipython",
    "version": 3
   },
   "file_extension": ".py",
   "mimetype": "text/x-python",
   "name": "python",
   "nbconvert_exporter": "python",
   "pygments_lexer": "ipython3",
   "version": "3.11.4"
  }
 },
 "nbformat": 4,
 "nbformat_minor": 4
}
